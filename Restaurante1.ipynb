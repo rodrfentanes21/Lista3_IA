{
  "nbformat": 4,
  "nbformat_minor": 0,
  "metadata": {
    "colab": {
      "provenance": [],
      "authorship_tag": "ABX9TyNwNk2ldoP+e2JKAr+KIDtT",
      "include_colab_link": true
    },
    "kernelspec": {
      "name": "python3",
      "display_name": "Python 3"
    },
    "language_info": {
      "name": "python"
    }
  },
  "cells": [
    {
      "cell_type": "markdown",
      "metadata": {
        "id": "view-in-github",
        "colab_type": "text"
      },
      "source": [
        "<a href=\"https://colab.research.google.com/github/rodrfentanes21/Lista3_IA/blob/main/Restaurante1.ipynb\" target=\"_parent\"><img src=\"https://colab.research.google.com/assets/colab-badge.svg\" alt=\"Open In Colab\"/></a>"
      ]
    },
    {
      "cell_type": "markdown",
      "source": [
        "Atualizando a biblioteca para plotagem de gráficos"
      ],
      "metadata": {
        "id": "b0ynfK_QFmk7"
      }
    },
    {
      "cell_type": "code",
      "source": [
        "!pip -q install plotly --upgrade"
      ],
      "metadata": {
        "colab": {
          "base_uri": "https://localhost:8080/"
        },
        "id": "N_fz2F3uFsoC",
        "outputId": "b825b6cc-2b15-4df7-90a6-3c7ebd8d12ca"
      },
      "execution_count": null,
      "outputs": [
        {
          "output_type": "stream",
          "name": "stdout",
          "text": [
            "\u001b[33mWARNING: Ignoring invalid distribution -lotly (/usr/local/lib/python3.7/dist-packages)\u001b[0m\n",
            "\u001b[33mWARNING: Ignoring invalid distribution -lotly (/usr/local/lib/python3.7/dist-packages)\u001b[0m\n",
            "\u001b[33mWARNING: Ignoring invalid distribution -lotly (/usr/local/lib/python3.7/dist-packages)\u001b[0m\n"
          ]
        }
      ]
    },
    {
      "cell_type": "code",
      "source": [
        "import pandas as pd\n",
        "import numpy as np\n",
        "import seaborn as sns\n",
        "import matplotlib.pyplot as plt\n",
        "import plotly.express as px"
      ],
      "metadata": {
        "id": "rHsdgeHQF10q"
      },
      "execution_count": null,
      "outputs": []
    },
    {
      "cell_type": "markdown",
      "source": [
        "Abrindo o CSV do drive"
      ],
      "metadata": {
        "id": "5NwqOH8VHR2X"
      }
    },
    {
      "cell_type": "code",
      "source": [
        "base = pd.read_csv(\"/content/Restaurante.csv\", \";\",encoding =  \"ISO8859-1\")"
      ],
      "metadata": {
        "colab": {
          "base_uri": "https://localhost:8080/"
        },
        "id": "B1wVWw7JHUyb",
        "outputId": "4020fd92-81d2-44c9-b48a-e732ae3027f1"
      },
      "execution_count": null,
      "outputs": [
        {
          "output_type": "stream",
          "name": "stderr",
          "text": [
            "/usr/local/lib/python3.7/dist-packages/IPython/core/interactiveshell.py:3326: FutureWarning:\n",
            "\n",
            "In a future version of pandas all arguments of read_csv except for the argument 'filepath_or_buffer' will be keyword-only\n",
            "\n"
          ]
        }
      ]
    },
    {
      "cell_type": "code",
      "source": [
        "base"
      ],
      "metadata": {
        "colab": {
          "base_uri": "https://localhost:8080/",
          "height": 426
        },
        "id": "pt134ZQqIAGQ",
        "outputId": "2ca8153b-a263-4f82-a03f-37a83fa8e34c"
      },
      "execution_count": null,
      "outputs": [
        {
          "output_type": "execute_result",
          "data": {
            "text/plain": [
              "   Alternativo  Bar SexSab fome Cliente Preco Chuva  Res       Tipo   Tempo  \\\n",
              "0          Sim  Nao    Nao  Sim  Alguns   RRR   Nao  Sim    Frances    0-10   \n",
              "1          Sim  Nao    Nao  Sim   Cheio     R   Nao  Nao  Tailandes   30-60   \n",
              "2          Nao  Sim    Nao  Nao  Alguns     R   Nao  Nao  Hamburger    0-10   \n",
              "3          Sim  Nao    Sim  Sim   Cheio     R   Sim  Nao  Tailandes  out/30   \n",
              "4          Sim  Nao    Sim  Nao   Cheio   RRR   Nao  Sim    Frances     >60   \n",
              "5          Nao  Sim    Nao  Sim  Alguns    RR   Sim  Sim   Italiano    0-10   \n",
              "6          Nao  Sim    Nao  Nao  Nenhum     R   Sim  Nao  Hamburger    0-10   \n",
              "7          Nao  Nao    Nao  Sim  Alguns    RR   Sim  Sim  Tailandes    0-10   \n",
              "8          Nao  Sim    Sim  Nao   Cheio     R   Sim  Nao  Hamburger     >60   \n",
              "9          Sim  Sim    Sim  Sim   Cheio   RRR   Nao  Sim   Italiano  out/30   \n",
              "10         Nao  Nao    Nao  Nao  Nenhum     R   Nao  Nao  Tailandes    0-10   \n",
              "11         Sim  Sim    Sim  Sim   Cheio     R   Nao  Nao  Hamburger   30-60   \n",
              "\n",
              "   Conclusao  \n",
              "0        Sim  \n",
              "1        Nao  \n",
              "2        Sim  \n",
              "3        Sim  \n",
              "4        Nao  \n",
              "5        Sim  \n",
              "6        Nao  \n",
              "7        Sim  \n",
              "8        Nao  \n",
              "9        Nao  \n",
              "10       Nao  \n",
              "11       Sim  "
            ],
            "text/html": [
              "\n",
              "  <div id=\"df-c51b6e80-2a41-4fe3-99c8-0bac372e06f1\">\n",
              "    <div class=\"colab-df-container\">\n",
              "      <div>\n",
              "<style scoped>\n",
              "    .dataframe tbody tr th:only-of-type {\n",
              "        vertical-align: middle;\n",
              "    }\n",
              "\n",
              "    .dataframe tbody tr th {\n",
              "        vertical-align: top;\n",
              "    }\n",
              "\n",
              "    .dataframe thead th {\n",
              "        text-align: right;\n",
              "    }\n",
              "</style>\n",
              "<table border=\"1\" class=\"dataframe\">\n",
              "  <thead>\n",
              "    <tr style=\"text-align: right;\">\n",
              "      <th></th>\n",
              "      <th>Alternativo</th>\n",
              "      <th>Bar</th>\n",
              "      <th>SexSab</th>\n",
              "      <th>fome</th>\n",
              "      <th>Cliente</th>\n",
              "      <th>Preco</th>\n",
              "      <th>Chuva</th>\n",
              "      <th>Res</th>\n",
              "      <th>Tipo</th>\n",
              "      <th>Tempo</th>\n",
              "      <th>Conclusao</th>\n",
              "    </tr>\n",
              "  </thead>\n",
              "  <tbody>\n",
              "    <tr>\n",
              "      <th>0</th>\n",
              "      <td>Sim</td>\n",
              "      <td>Nao</td>\n",
              "      <td>Nao</td>\n",
              "      <td>Sim</td>\n",
              "      <td>Alguns</td>\n",
              "      <td>RRR</td>\n",
              "      <td>Nao</td>\n",
              "      <td>Sim</td>\n",
              "      <td>Frances</td>\n",
              "      <td>0-10</td>\n",
              "      <td>Sim</td>\n",
              "    </tr>\n",
              "    <tr>\n",
              "      <th>1</th>\n",
              "      <td>Sim</td>\n",
              "      <td>Nao</td>\n",
              "      <td>Nao</td>\n",
              "      <td>Sim</td>\n",
              "      <td>Cheio</td>\n",
              "      <td>R</td>\n",
              "      <td>Nao</td>\n",
              "      <td>Nao</td>\n",
              "      <td>Tailandes</td>\n",
              "      <td>30-60</td>\n",
              "      <td>Nao</td>\n",
              "    </tr>\n",
              "    <tr>\n",
              "      <th>2</th>\n",
              "      <td>Nao</td>\n",
              "      <td>Sim</td>\n",
              "      <td>Nao</td>\n",
              "      <td>Nao</td>\n",
              "      <td>Alguns</td>\n",
              "      <td>R</td>\n",
              "      <td>Nao</td>\n",
              "      <td>Nao</td>\n",
              "      <td>Hamburger</td>\n",
              "      <td>0-10</td>\n",
              "      <td>Sim</td>\n",
              "    </tr>\n",
              "    <tr>\n",
              "      <th>3</th>\n",
              "      <td>Sim</td>\n",
              "      <td>Nao</td>\n",
              "      <td>Sim</td>\n",
              "      <td>Sim</td>\n",
              "      <td>Cheio</td>\n",
              "      <td>R</td>\n",
              "      <td>Sim</td>\n",
              "      <td>Nao</td>\n",
              "      <td>Tailandes</td>\n",
              "      <td>out/30</td>\n",
              "      <td>Sim</td>\n",
              "    </tr>\n",
              "    <tr>\n",
              "      <th>4</th>\n",
              "      <td>Sim</td>\n",
              "      <td>Nao</td>\n",
              "      <td>Sim</td>\n",
              "      <td>Nao</td>\n",
              "      <td>Cheio</td>\n",
              "      <td>RRR</td>\n",
              "      <td>Nao</td>\n",
              "      <td>Sim</td>\n",
              "      <td>Frances</td>\n",
              "      <td>&gt;60</td>\n",
              "      <td>Nao</td>\n",
              "    </tr>\n",
              "    <tr>\n",
              "      <th>5</th>\n",
              "      <td>Nao</td>\n",
              "      <td>Sim</td>\n",
              "      <td>Nao</td>\n",
              "      <td>Sim</td>\n",
              "      <td>Alguns</td>\n",
              "      <td>RR</td>\n",
              "      <td>Sim</td>\n",
              "      <td>Sim</td>\n",
              "      <td>Italiano</td>\n",
              "      <td>0-10</td>\n",
              "      <td>Sim</td>\n",
              "    </tr>\n",
              "    <tr>\n",
              "      <th>6</th>\n",
              "      <td>Nao</td>\n",
              "      <td>Sim</td>\n",
              "      <td>Nao</td>\n",
              "      <td>Nao</td>\n",
              "      <td>Nenhum</td>\n",
              "      <td>R</td>\n",
              "      <td>Sim</td>\n",
              "      <td>Nao</td>\n",
              "      <td>Hamburger</td>\n",
              "      <td>0-10</td>\n",
              "      <td>Nao</td>\n",
              "    </tr>\n",
              "    <tr>\n",
              "      <th>7</th>\n",
              "      <td>Nao</td>\n",
              "      <td>Nao</td>\n",
              "      <td>Nao</td>\n",
              "      <td>Sim</td>\n",
              "      <td>Alguns</td>\n",
              "      <td>RR</td>\n",
              "      <td>Sim</td>\n",
              "      <td>Sim</td>\n",
              "      <td>Tailandes</td>\n",
              "      <td>0-10</td>\n",
              "      <td>Sim</td>\n",
              "    </tr>\n",
              "    <tr>\n",
              "      <th>8</th>\n",
              "      <td>Nao</td>\n",
              "      <td>Sim</td>\n",
              "      <td>Sim</td>\n",
              "      <td>Nao</td>\n",
              "      <td>Cheio</td>\n",
              "      <td>R</td>\n",
              "      <td>Sim</td>\n",
              "      <td>Nao</td>\n",
              "      <td>Hamburger</td>\n",
              "      <td>&gt;60</td>\n",
              "      <td>Nao</td>\n",
              "    </tr>\n",
              "    <tr>\n",
              "      <th>9</th>\n",
              "      <td>Sim</td>\n",
              "      <td>Sim</td>\n",
              "      <td>Sim</td>\n",
              "      <td>Sim</td>\n",
              "      <td>Cheio</td>\n",
              "      <td>RRR</td>\n",
              "      <td>Nao</td>\n",
              "      <td>Sim</td>\n",
              "      <td>Italiano</td>\n",
              "      <td>out/30</td>\n",
              "      <td>Nao</td>\n",
              "    </tr>\n",
              "    <tr>\n",
              "      <th>10</th>\n",
              "      <td>Nao</td>\n",
              "      <td>Nao</td>\n",
              "      <td>Nao</td>\n",
              "      <td>Nao</td>\n",
              "      <td>Nenhum</td>\n",
              "      <td>R</td>\n",
              "      <td>Nao</td>\n",
              "      <td>Nao</td>\n",
              "      <td>Tailandes</td>\n",
              "      <td>0-10</td>\n",
              "      <td>Nao</td>\n",
              "    </tr>\n",
              "    <tr>\n",
              "      <th>11</th>\n",
              "      <td>Sim</td>\n",
              "      <td>Sim</td>\n",
              "      <td>Sim</td>\n",
              "      <td>Sim</td>\n",
              "      <td>Cheio</td>\n",
              "      <td>R</td>\n",
              "      <td>Nao</td>\n",
              "      <td>Nao</td>\n",
              "      <td>Hamburger</td>\n",
              "      <td>30-60</td>\n",
              "      <td>Sim</td>\n",
              "    </tr>\n",
              "  </tbody>\n",
              "</table>\n",
              "</div>\n",
              "      <button class=\"colab-df-convert\" onclick=\"convertToInteractive('df-c51b6e80-2a41-4fe3-99c8-0bac372e06f1')\"\n",
              "              title=\"Convert this dataframe to an interactive table.\"\n",
              "              style=\"display:none;\">\n",
              "        \n",
              "  <svg xmlns=\"http://www.w3.org/2000/svg\" height=\"24px\"viewBox=\"0 0 24 24\"\n",
              "       width=\"24px\">\n",
              "    <path d=\"M0 0h24v24H0V0z\" fill=\"none\"/>\n",
              "    <path d=\"M18.56 5.44l.94 2.06.94-2.06 2.06-.94-2.06-.94-.94-2.06-.94 2.06-2.06.94zm-11 1L8.5 8.5l.94-2.06 2.06-.94-2.06-.94L8.5 2.5l-.94 2.06-2.06.94zm10 10l.94 2.06.94-2.06 2.06-.94-2.06-.94-.94-2.06-.94 2.06-2.06.94z\"/><path d=\"M17.41 7.96l-1.37-1.37c-.4-.4-.92-.59-1.43-.59-.52 0-1.04.2-1.43.59L10.3 9.45l-7.72 7.72c-.78.78-.78 2.05 0 2.83L4 21.41c.39.39.9.59 1.41.59.51 0 1.02-.2 1.41-.59l7.78-7.78 2.81-2.81c.8-.78.8-2.07 0-2.86zM5.41 20L4 18.59l7.72-7.72 1.47 1.35L5.41 20z\"/>\n",
              "  </svg>\n",
              "      </button>\n",
              "      \n",
              "  <style>\n",
              "    .colab-df-container {\n",
              "      display:flex;\n",
              "      flex-wrap:wrap;\n",
              "      gap: 12px;\n",
              "    }\n",
              "\n",
              "    .colab-df-convert {\n",
              "      background-color: #E8F0FE;\n",
              "      border: none;\n",
              "      border-radius: 50%;\n",
              "      cursor: pointer;\n",
              "      display: none;\n",
              "      fill: #1967D2;\n",
              "      height: 32px;\n",
              "      padding: 0 0 0 0;\n",
              "      width: 32px;\n",
              "    }\n",
              "\n",
              "    .colab-df-convert:hover {\n",
              "      background-color: #E2EBFA;\n",
              "      box-shadow: 0px 1px 2px rgba(60, 64, 67, 0.3), 0px 1px 3px 1px rgba(60, 64, 67, 0.15);\n",
              "      fill: #174EA6;\n",
              "    }\n",
              "\n",
              "    [theme=dark] .colab-df-convert {\n",
              "      background-color: #3B4455;\n",
              "      fill: #D2E3FC;\n",
              "    }\n",
              "\n",
              "    [theme=dark] .colab-df-convert:hover {\n",
              "      background-color: #434B5C;\n",
              "      box-shadow: 0px 1px 3px 1px rgba(0, 0, 0, 0.15);\n",
              "      filter: drop-shadow(0px 1px 2px rgba(0, 0, 0, 0.3));\n",
              "      fill: #FFFFFF;\n",
              "    }\n",
              "  </style>\n",
              "\n",
              "      <script>\n",
              "        const buttonEl =\n",
              "          document.querySelector('#df-c51b6e80-2a41-4fe3-99c8-0bac372e06f1 button.colab-df-convert');\n",
              "        buttonEl.style.display =\n",
              "          google.colab.kernel.accessAllowed ? 'block' : 'none';\n",
              "\n",
              "        async function convertToInteractive(key) {\n",
              "          const element = document.querySelector('#df-c51b6e80-2a41-4fe3-99c8-0bac372e06f1');\n",
              "          const dataTable =\n",
              "            await google.colab.kernel.invokeFunction('convertToInteractive',\n",
              "                                                     [key], {});\n",
              "          if (!dataTable) return;\n",
              "\n",
              "          const docLinkHtml = 'Like what you see? Visit the ' +\n",
              "            '<a target=\"_blank\" href=https://colab.research.google.com/notebooks/data_table.ipynb>data table notebook</a>'\n",
              "            + ' to learn more about interactive tables.';\n",
              "          element.innerHTML = '';\n",
              "          dataTable['output_type'] = 'display_data';\n",
              "          await google.colab.output.renderOutput(dataTable, element);\n",
              "          const docLink = document.createElement('div');\n",
              "          docLink.innerHTML = docLinkHtml;\n",
              "          element.appendChild(docLink);\n",
              "        }\n",
              "      </script>\n",
              "    </div>\n",
              "  </div>\n",
              "  "
            ]
          },
          "metadata": {},
          "execution_count": 64
        }
      ]
    },
    {
      "cell_type": "markdown",
      "source": [
        "Contando a quantidade de instâncas"
      ],
      "metadata": {
        "id": "fT-b-V55KKEw"
      }
    },
    {
      "cell_type": "code",
      "source": [
        "np.unique(base['Conclusao'], return_counts=True)"
      ],
      "metadata": {
        "colab": {
          "base_uri": "https://localhost:8080/"
        },
        "id": "1BOojBT4KO98",
        "outputId": "23a2fbee-44dc-4e59-cd01-35e828650bee"
      },
      "execution_count": null,
      "outputs": [
        {
          "output_type": "execute_result",
          "data": {
            "text/plain": [
              "(array(['Nao', 'Sim'], dtype=object), array([6, 6]))"
            ]
          },
          "metadata": {},
          "execution_count": 65
        }
      ]
    },
    {
      "cell_type": "code",
      "source": [
        "sns.countplot( x = base['Conclusao']);"
      ],
      "metadata": {
        "colab": {
          "base_uri": "https://localhost:8080/",
          "height": 279
        },
        "id": "e7Gevmw5KiN1",
        "outputId": "922e5928-c735-45ad-ae85-f33c4204ea6d"
      },
      "execution_count": null,
      "outputs": [
        {
          "output_type": "display_data",
          "data": {
            "text/plain": [
              "<Figure size 432x288 with 1 Axes>"
            ],
            "image/png": "[encoded data removed]"
          },
          "metadata": {
            "needs_background": "light"
          }
        }
      ]
    },
    {
      "cell_type": "markdown",
      "source": [
        "Separando os atributos de entrada e de classe"
      ],
      "metadata": {
        "id": "k9503A2iLLfE"
      }
    },
    {
      "cell_type": "code",
      "source": [
        "x_prev = base.iloc[:, 0:10].values"
      ],
      "metadata": {
        "id": "5pcaD5OMLQC3"
      },
      "execution_count": null,
      "outputs": []
    },
    {
      "cell_type": "code",
      "source": [
        "x_prev"
      ],
      "metadata": {
        "colab": {
          "base_uri": "https://localhost:8080/"
        },
        "id": "aIyTZfo9LZ_m",
        "outputId": "91b0c359-9a1b-4e81-bc97-7ac81a497561"
      },
      "execution_count": null,
      "outputs": [
        {
          "output_type": "execute_result",
          "data": {
            "text/plain": [
              "array([['Sim', 'Nao', 'Nao', 'Sim', 'Alguns', 'RRR', 'Nao', 'Sim',\n",
              "        'Frances', '0-10'],\n",
              "       ['Sim', 'Nao', 'Nao', 'Sim', 'Cheio', 'R', 'Nao', 'Nao',\n",
              "        'Tailandes', '30-60'],\n",
              "       ['Nao', 'Sim', 'Nao', 'Nao', 'Alguns', 'R', 'Nao', 'Nao',\n",
              "        'Hamburger', '0-10'],\n",
              "       ['Sim', 'Nao', 'Sim', 'Sim', 'Cheio', 'R', 'Sim', 'Nao',\n",
              "        'Tailandes', 'out/30'],\n",
              "       ['Sim', 'Nao', 'Sim', 'Nao', 'Cheio', 'RRR', 'Nao', 'Sim',\n",
              "        'Frances', '>60'],\n",
              "       ['Nao', 'Sim', 'Nao', 'Sim', 'Alguns', 'RR', 'Sim', 'Sim',\n",
              "        'Italiano', '0-10'],\n",
              "       ['Nao', 'Sim', 'Nao', 'Nao', 'Nenhum', 'R', 'Sim', 'Nao',\n",
              "        'Hamburger', '0-10'],\n",
              "       ['Nao', 'Nao', 'Nao', 'Sim', 'Alguns', 'RR', 'Sim', 'Sim',\n",
              "        'Tailandes', '0-10'],\n",
              "       ['Nao', 'Sim', 'Sim', 'Nao', 'Cheio', 'R', 'Sim', 'Nao',\n",
              "        'Hamburger', '>60'],\n",
              "       ['Sim', 'Sim', 'Sim', 'Sim', 'Cheio', 'RRR', 'Nao', 'Sim',\n",
              "        'Italiano', 'out/30'],\n",
              "       ['Nao', 'Nao', 'Nao', 'Nao', 'Nenhum', 'R', 'Nao', 'Nao',\n",
              "        'Tailandes', '0-10'],\n",
              "       ['Sim', 'Sim', 'Sim', 'Sim', 'Cheio', 'R', 'Nao', 'Nao',\n",
              "        'Hamburger', '30-60']], dtype=object)"
            ]
          },
          "metadata": {},
          "execution_count": 68
        }
      ]
    },
    {
      "cell_type": "code",
      "source": [
        "x_prev_label = base.iloc[:, 0:10]"
      ],
      "metadata": {
        "id": "pOaXBYqDLgoC"
      },
      "execution_count": null,
      "outputs": []
    },
    {
      "cell_type": "code",
      "source": [
        "x_prev_label"
      ],
      "metadata": {
        "colab": {
          "base_uri": "https://localhost:8080/",
          "height": 426
        },
        "id": "q9Zu_mUOLtcp",
        "outputId": "228ed4f9-ebb3-4c50-8c91-5e68d54b841b"
      },
      "execution_count": null,
      "outputs": [
        {
          "output_type": "execute_result",
          "data": {
            "text/plain": [
              "   Alternativo  Bar SexSab fome Cliente Preco Chuva  Res       Tipo   Tempo\n",
              "0          Sim  Nao    Nao  Sim  Alguns   RRR   Nao  Sim    Frances    0-10\n",
              "1          Sim  Nao    Nao  Sim   Cheio     R   Nao  Nao  Tailandes   30-60\n",
              "2          Nao  Sim    Nao  Nao  Alguns     R   Nao  Nao  Hamburger    0-10\n",
              "3          Sim  Nao    Sim  Sim   Cheio     R   Sim  Nao  Tailandes  out/30\n",
              "4          Sim  Nao    Sim  Nao   Cheio   RRR   Nao  Sim    Frances     >60\n",
              "5          Nao  Sim    Nao  Sim  Alguns    RR   Sim  Sim   Italiano    0-10\n",
              "6          Nao  Sim    Nao  Nao  Nenhum     R   Sim  Nao  Hamburger    0-10\n",
              "7          Nao  Nao    Nao  Sim  Alguns    RR   Sim  Sim  Tailandes    0-10\n",
              "8          Nao  Sim    Sim  Nao   Cheio     R   Sim  Nao  Hamburger     >60\n",
              "9          Sim  Sim    Sim  Sim   Cheio   RRR   Nao  Sim   Italiano  out/30\n",
              "10         Nao  Nao    Nao  Nao  Nenhum     R   Nao  Nao  Tailandes    0-10\n",
              "11         Sim  Sim    Sim  Sim   Cheio     R   Nao  Nao  Hamburger   30-60"
            ],
            "text/html": [
              "\n",
              "  <div id=\"df-41fae441-5fa9-4866-9f93-5b9fbd0b93e6\">\n",
              "    <div class=\"colab-df-container\">\n",
              "      <div>\n",
              "<style scoped>\n",
              "    .dataframe tbody tr th:only-of-type {\n",
              "        vertical-align: middle;\n",
              "    }\n",
              "\n",
              "    .dataframe tbody tr th {\n",
              "        vertical-align: top;\n",
              "    }\n",
              "\n",
              "    .dataframe thead th {\n",
              "        text-align: right;\n",
              "    }\n",
              "</style>\n",
              "<table border=\"1\" class=\"dataframe\">\n",
              "  <thead>\n",
              "    <tr style=\"text-align: right;\">\n",
              "      <th></th>\n",
              "      <th>Alternativo</th>\n",
              "      <th>Bar</th>\n",
              "      <th>SexSab</th>\n",
              "      <th>fome</th>\n",
              "      <th>Cliente</th>\n",
              "      <th>Preco</th>\n",
              "      <th>Chuva</th>\n",
              "      <th>Res</th>\n",
              "      <th>Tipo</th>\n",
              "      <th>Tempo</th>\n",
              "    </tr>\n",
              "  </thead>\n",
              "  <tbody>\n",
              "    <tr>\n",
              "      <th>0</th>\n",
              "      <td>Sim</td>\n",
              "      <td>Nao</td>\n",
              "      <td>Nao</td>\n",
              "      <td>Sim</td>\n",
              "      <td>Alguns</td>\n",
              "      <td>RRR</td>\n",
              "      <td>Nao</td>\n",
              "      <td>Sim</td>\n",
              "      <td>Frances</td>\n",
              "      <td>0-10</td>\n",
              "    </tr>\n",
              "    <tr>\n",
              "      <th>1</th>\n",
              "      <td>Sim</td>\n",
              "      <td>Nao</td>\n",
              "      <td>Nao</td>\n",
              "      <td>Sim</td>\n",
              "      <td>Cheio</td>\n",
              "      <td>R</td>\n",
              "      <td>Nao</td>\n",
              "      <td>Nao</td>\n",
              "      <td>Tailandes</td>\n",
              "      <td>30-60</td>\n",
              "    </tr>\n",
              "    <tr>\n",
              "      <th>2</th>\n",
              "      <td>Nao</td>\n",
              "      <td>Sim</td>\n",
              "      <td>Nao</td>\n",
              "      <td>Nao</td>\n",
              "      <td>Alguns</td>\n",
              "      <td>R</td>\n",
              "      <td>Nao</td>\n",
              "      <td>Nao</td>\n",
              "      <td>Hamburger</td>\n",
              "      <td>0-10</td>\n",
              "    </tr>\n",
              "    <tr>\n",
              "      <th>3</th>\n",
              "      <td>Sim</td>\n",
              "      <td>Nao</td>\n",
              "      <td>Sim</td>\n",
              "      <td>Sim</td>\n",
              "      <td>Cheio</td>\n",
              "      <td>R</td>\n",
              "      <td>Sim</td>\n",
              "      <td>Nao</td>\n",
              "      <td>Tailandes</td>\n",
              "      <td>out/30</td>\n",
              "    </tr>\n",
              "    <tr>\n",
              "      <th>4</th>\n",
              "      <td>Sim</td>\n",
              "      <td>Nao</td>\n",
              "      <td>Sim</td>\n",
              "      <td>Nao</td>\n",
              "      <td>Cheio</td>\n",
              "      <td>RRR</td>\n",
              "      <td>Nao</td>\n",
              "      <td>Sim</td>\n",
              "      <td>Frances</td>\n",
              "      <td>&gt;60</td>\n",
              "    </tr>\n",
              "    <tr>\n",
              "      <th>5</th>\n",
              "      <td>Nao</td>\n",
              "      <td>Sim</td>\n",
              "      <td>Nao</td>\n",
              "      <td>Sim</td>\n",
              "      <td>Alguns</td>\n",
              "      <td>RR</td>\n",
              "      <td>Sim</td>\n",
              "      <td>Sim</td>\n",
              "      <td>Italiano</td>\n",
              "      <td>0-10</td>\n",
              "    </tr>\n",
              "    <tr>\n",
              "      <th>6</th>\n",
              "      <td>Nao</td>\n",
              "      <td>Sim</td>\n",
              "      <td>Nao</td>\n",
              "      <td>Nao</td>\n",
              "      <td>Nenhum</td>\n",
              "      <td>R</td>\n",
              "      <td>Sim</td>\n",
              "      <td>Nao</td>\n",
              "      <td>Hamburger</td>\n",
              "      <td>0-10</td>\n",
              "    </tr>\n",
              "    <tr>\n",
              "      <th>7</th>\n",
              "      <td>Nao</td>\n",
              "      <td>Nao</td>\n",
              "      <td>Nao</td>\n",
              "      <td>Sim</td>\n",
              "      <td>Alguns</td>\n",
              "      <td>RR</td>\n",
              "      <td>Sim</td>\n",
              "      <td>Sim</td>\n",
              "      <td>Tailandes</td>\n",
              "      <td>0-10</td>\n",
              "    </tr>\n",
              "    <tr>\n",
              "      <th>8</th>\n",
              "      <td>Nao</td>\n",
              "      <td>Sim</td>\n",
              "      <td>Sim</td>\n",
              "      <td>Nao</td>\n",
              "      <td>Cheio</td>\n",
              "      <td>R</td>\n",
              "      <td>Sim</td>\n",
              "      <td>Nao</td>\n",
              "      <td>Hamburger</td>\n",
              "      <td>&gt;60</td>\n",
              "    </tr>\n",
              "    <tr>\n",
              "      <th>9</th>\n",
              "      <td>Sim</td>\n",
              "      <td>Sim</td>\n",
              "      <td>Sim</td>\n",
              "      <td>Sim</td>\n",
              "      <td>Cheio</td>\n",
              "      <td>RRR</td>\n",
              "      <td>Nao</td>\n",
              "      <td>Sim</td>\n",
              "      <td>Italiano</td>\n",
              "      <td>out/30</td>\n",
              "    </tr>\n",
              "    <tr>\n",
              "      <th>10</th>\n",
              "      <td>Nao</td>\n",
              "      <td>Nao</td>\n",
              "      <td>Nao</td>\n",
              "      <td>Nao</td>\n",
              "      <td>Nenhum</td>\n",
              "      <td>R</td>\n",
              "      <td>Nao</td>\n",
              "      <td>Nao</td>\n",
              "      <td>Tailandes</td>\n",
              "      <td>0-10</td>\n",
              "    </tr>\n",
              "    <tr>\n",
              "      <th>11</th>\n",
              "      <td>Sim</td>\n",
              "      <td>Sim</td>\n",
              "      <td>Sim</td>\n",
              "      <td>Sim</td>\n",
              "      <td>Cheio</td>\n",
              "      <td>R</td>\n",
              "      <td>Nao</td>\n",
              "      <td>Nao</td>\n",
              "      <td>Hamburger</td>\n",
              "      <td>30-60</td>\n",
              "    </tr>\n",
              "  </tbody>\n",
              "</table>\n",
              "</div>\n",
              "      <button class=\"colab-df-convert\" onclick=\"convertToInteractive('df-41fae441-5fa9-4866-9f93-5b9fbd0b93e6')\"\n",
              "              title=\"Convert this dataframe to an interactive table.\"\n",
              "              style=\"display:none;\">\n",
              "        \n",
              "  <svg xmlns=\"http://www.w3.org/2000/svg\" height=\"24px\"viewBox=\"0 0 24 24\"\n",
              "       width=\"24px\">\n",
              "    <path d=\"M0 0h24v24H0V0z\" fill=\"none\"/>\n",
              "    <path d=\"M18.56 5.44l.94 2.06.94-2.06 2.06-.94-2.06-.94-.94-2.06-.94 2.06-2.06.94zm-11 1L8.5 8.5l.94-2.06 2.06-.94-2.06-.94L8.5 2.5l-.94 2.06-2.06.94zm10 10l.94 2.06.94-2.06 2.06-.94-2.06-.94-.94-2.06-.94 2.06-2.06.94z\"/><path d=\"M17.41 7.96l-1.37-1.37c-.4-.4-.92-.59-1.43-.59-.52 0-1.04.2-1.43.59L10.3 9.45l-7.72 7.72c-.78.78-.78 2.05 0 2.83L4 21.41c.39.39.9.59 1.41.59.51 0 1.02-.2 1.41-.59l7.78-7.78 2.81-2.81c.8-.78.8-2.07 0-2.86zM5.41 20L4 18.59l7.72-7.72 1.47 1.35L5.41 20z\"/>\n",
              "  </svg>\n",
              "      </button>\n",
              "      \n",
              "  <style>\n",
              "    .colab-df-container {\n",
              "      display:flex;\n",
              "      flex-wrap:wrap;\n",
              "      gap: 12px;\n",
              "    }\n",
              "\n",
              "    .colab-df-convert {\n",
              "      background-color: #E8F0FE;\n",
              "      border: none;\n",
              "      border-radius: 50%;\n",
              "      cursor: pointer;\n",
              "      display: none;\n",
              "      fill: #1967D2;\n",
              "      height: 32px;\n",
              "      padding: 0 0 0 0;\n",
              "      width: 32px;\n",
              "    }\n",
              "\n",
              "    .colab-df-convert:hover {\n",
              "      background-color: #E2EBFA;\n",
              "      box-shadow: 0px 1px 2px rgba(60, 64, 67, 0.3), 0px 1px 3px 1px rgba(60, 64, 67, 0.15);\n",
              "      fill: #174EA6;\n",
              "    }\n",
              "\n",
              "    [theme=dark] .colab-df-convert {\n",
              "      background-color: #3B4455;\n",
              "      fill: #D2E3FC;\n",
              "    }\n",
              "\n",
              "    [theme=dark] .colab-df-convert:hover {\n",
              "      background-color: #434B5C;\n",
              "      box-shadow: 0px 1px 3px 1px rgba(0, 0, 0, 0.15);\n",
              "      filter: drop-shadow(0px 1px 2px rgba(0, 0, 0, 0.3));\n",
              "      fill: #FFFFFF;\n",
              "    }\n",
              "  </style>\n",
              "\n",
              "      <script>\n",
              "        const buttonEl =\n",
              "          document.querySelector('#df-41fae441-5fa9-4866-9f93-5b9fbd0b93e6 button.colab-df-convert');\n",
              "        buttonEl.style.display =\n",
              "          google.colab.kernel.accessAllowed ? 'block' : 'none';\n",
              "\n",
              "        async function convertToInteractive(key) {\n",
              "          const element = document.querySelector('#df-41fae441-5fa9-4866-9f93-5b9fbd0b93e6');\n",
              "          const dataTable =\n",
              "            await google.colab.kernel.invokeFunction('convertToInteractive',\n",
              "                                                     [key], {});\n",
              "          if (!dataTable) return;\n",
              "\n",
              "          const docLinkHtml = 'Like what you see? Visit the ' +\n",
              "            '<a target=\"_blank\" href=https://colab.research.google.com/notebooks/data_table.ipynb>data table notebook</a>'\n",
              "            + ' to learn more about interactive tables.';\n",
              "          element.innerHTML = '';\n",
              "          dataTable['output_type'] = 'display_data';\n",
              "          await google.colab.output.renderOutput(dataTable, element);\n",
              "          const docLink = document.createElement('div');\n",
              "          docLink.innerHTML = docLinkHtml;\n",
              "          element.appendChild(docLink);\n",
              "        }\n",
              "      </script>\n",
              "    </div>\n",
              "  </div>\n",
              "  "
            ]
          },
          "metadata": {},
          "execution_count": 70
        }
      ]
    },
    {
      "cell_type": "code",
      "source": [
        "y_classe = base.iloc[:, 10].values"
      ],
      "metadata": {
        "id": "_NA4W5QnL-kV"
      },
      "execution_count": null,
      "outputs": []
    },
    {
      "cell_type": "code",
      "source": [
        "y_classe"
      ],
      "metadata": {
        "colab": {
          "base_uri": "https://localhost:8080/"
        },
        "id": "JUFClBuAMLd4",
        "outputId": "b37c4e8f-f946-4832-c62f-18737c98de4b"
      },
      "execution_count": null,
      "outputs": [
        {
          "output_type": "execute_result",
          "data": {
            "text/plain": [
              "array(['Sim', 'Nao', 'Sim', 'Sim', 'Nao', 'Sim', 'Nao', 'Sim', 'Nao',\n",
              "       'Nao', 'Nao', 'Sim'], dtype=object)"
            ]
          },
          "metadata": {},
          "execution_count": 72
        }
      ]
    },
    {
      "cell_type": "markdown",
      "source": [
        "Tratamento de dados categóricos"
      ],
      "metadata": {
        "id": "vqYnnNDiNQq3"
      }
    },
    {
      "cell_type": "code",
      "source": [
        "from sklearn.preprocessing import LabelEncoder"
      ],
      "metadata": {
        "id": "sl-xh9QaNVWY"
      },
      "execution_count": null,
      "outputs": []
    },
    {
      "cell_type": "code",
      "source": [
        "label_encoder = LabelEncoder()"
      ],
      "metadata": {
        "id": "kEoP6xDVNenM"
      },
      "execution_count": null,
      "outputs": []
    },
    {
      "cell_type": "code",
      "source": [
        "label_encoder_Alternativo = LabelEncoder()\n",
        "label_encoder_Bar = LabelEncoder()\n",
        "label_encoder_SexSab = LabelEncoder()\n",
        "label_encoder_fome = LabelEncoder()\n",
        "label_encoder_chuva = LabelEncoder()\n",
        "label_encoder_Res = LabelEncoder()"
      ],
      "metadata": {
        "id": "xfYQ5LEeNj4L"
      },
      "execution_count": null,
      "outputs": []
    },
    {
      "cell_type": "code",
      "source": [
        "x_prev[:, 0] = label_encoder_Alternativo.fit_transform(x_prev[:, 0])\n",
        "x_prev[:, 1] = label_encoder_Bar.fit_transform(x_prev[:, 1])\n",
        "x_prev[:, 2] = label_encoder_SexSab.fit_transform(x_prev[:, 2])\n",
        "x_prev[:, 3] = label_encoder_fome.fit_transform(x_prev[:, 3])\n",
        "x_prev[:, 6] = label_encoder_chuva.fit_transform(x_prev[:, 6])\n",
        "x_prev[:, 7] = label_encoder_Res.fit_transform(x_prev[:, 7])"
      ],
      "metadata": {
        "id": "aN6iky38QQ5j"
      },
      "execution_count": null,
      "outputs": []
    },
    {
      "cell_type": "code",
      "source": [
        "x_prev"
      ],
      "metadata": {
        "colab": {
          "base_uri": "https://localhost:8080/"
        },
        "id": "BRXTjBOlQR9b",
        "outputId": "a215ae5a-9146-4523-e704-3ac4230b0f4b"
      },
      "execution_count": null,
      "outputs": [
        {
          "output_type": "execute_result",
          "data": {
            "text/plain": [
              "array([[1, 0, 0, 1, 'Alguns', 'RRR', 0, 1, 'Frances', '0-10'],\n",
              "       [1, 0, 0, 1, 'Cheio', 'R', 0, 0, 'Tailandes', '30-60'],\n",
              "       [0, 1, 0, 0, 'Alguns', 'R', 0, 0, 'Hamburger', '0-10'],\n",
              "       [1, 0, 1, 1, 'Cheio', 'R', 1, 0, 'Tailandes', 'out/30'],\n",
              "       [1, 0, 1, 0, 'Cheio', 'RRR', 0, 1, 'Frances', '>60'],\n",
              "       [0, 1, 0, 1, 'Alguns', 'RR', 1, 1, 'Italiano', '0-10'],\n",
              "       [0, 1, 0, 0, 'Nenhum', 'R', 1, 0, 'Hamburger', '0-10'],\n",
              "       [0, 0, 0, 1, 'Alguns', 'RR', 1, 1, 'Tailandes', '0-10'],\n",
              "       [0, 1, 1, 0, 'Cheio', 'R', 1, 0, 'Hamburger', '>60'],\n",
              "       [1, 1, 1, 1, 'Cheio', 'RRR', 0, 1, 'Italiano', 'out/30'],\n",
              "       [0, 0, 0, 0, 'Nenhum', 'R', 0, 0, 'Tailandes', '0-10'],\n",
              "       [1, 1, 1, 1, 'Cheio', 'R', 0, 0, 'Hamburger', '30-60']],\n",
              "      dtype=object)"
            ]
          },
          "metadata": {},
          "execution_count": 78
        }
      ]
    },
    {
      "cell_type": "markdown",
      "source": [
        "Contando quantas opções de resposta tem cada atributo"
      ],
      "metadata": {
        "id": "NgTX964JRSeo"
      }
    },
    {
      "cell_type": "code",
      "source": [
        "from sklearn.preprocessing import OneHotEncoder\n",
        "from sklearn.compose import ColumnTransformer"
      ],
      "metadata": {
        "id": "vyJB2Dk1RrV_"
      },
      "execution_count": null,
      "outputs": []
    },
    {
      "cell_type": "code",
      "source": [
        "x_prev"
      ],
      "metadata": {
        "colab": {
          "base_uri": "https://localhost:8080/"
        },
        "id": "TYHMFPPcRyOW",
        "outputId": "be21bc3a-1bd2-46d2-d445-7cba4c8c56f1"
      },
      "execution_count": null,
      "outputs": [
        {
          "output_type": "execute_result",
          "data": {
            "text/plain": [
              "array([[1, 0, 0, 1, 'Alguns', 'RRR', 0, 1, 'Frances', '0-10'],\n",
              "       [1, 0, 0, 1, 'Cheio', 'R', 0, 0, 'Tailandes', '30-60'],\n",
              "       [0, 1, 0, 0, 'Alguns', 'R', 0, 0, 'Hamburger', '0-10'],\n",
              "       [1, 0, 1, 1, 'Cheio', 'R', 1, 0, 'Tailandes', 'out/30'],\n",
              "       [1, 0, 1, 0, 'Cheio', 'RRR', 0, 1, 'Frances', '>60'],\n",
              "       [0, 1, 0, 1, 'Alguns', 'RR', 1, 1, 'Italiano', '0-10'],\n",
              "       [0, 1, 0, 0, 'Nenhum', 'R', 1, 0, 'Hamburger', '0-10'],\n",
              "       [0, 0, 0, 1, 'Alguns', 'RR', 1, 1, 'Tailandes', '0-10'],\n",
              "       [0, 1, 1, 0, 'Cheio', 'R', 1, 0, 'Hamburger', '>60'],\n",
              "       [1, 1, 1, 1, 'Cheio', 'RRR', 0, 1, 'Italiano', 'out/30'],\n",
              "       [0, 0, 0, 0, 'Nenhum', 'R', 0, 0, 'Tailandes', '0-10'],\n",
              "       [1, 1, 1, 1, 'Cheio', 'R', 0, 0, 'Hamburger', '30-60']],\n",
              "      dtype=object)"
            ]
          },
          "metadata": {},
          "execution_count": 82
        }
      ]
    },
    {
      "cell_type": "code",
      "source": [
        "onehot_restaurante = ColumnTransformer(transformers=[('OneHot', OneHotEncoder(), [4,5,8,9])], remainder='passthrough')"
      ],
      "metadata": {
        "id": "Ijjyfs8RSRBx"
      },
      "execution_count": null,
      "outputs": []
    },
    {
      "cell_type": "code",
      "source": [
        "x_prev = onehot_restaurante.fit_transform(x_prev)"
      ],
      "metadata": {
        "id": "QwPCiFPWS9dg"
      },
      "execution_count": null,
      "outputs": []
    },
    {
      "cell_type": "code",
      "source": [
        "x_prev"
      ],
      "metadata": {
        "colab": {
          "base_uri": "https://localhost:8080/"
        },
        "id": "O1wYtLuzTI66",
        "outputId": "c2369b5a-73d3-42c0-9d0f-40e7f0da41e3"
      },
      "execution_count": null,
      "outputs": [
        {
          "output_type": "execute_result",
          "data": {
            "text/plain": [
              "array([[1.0, 0.0, 0.0, 0.0, 0.0, 1.0, 1.0, 0.0, 0.0, 0.0, 1.0, 0.0, 0.0,\n",
              "        0.0, 1, 0, 0, 1, 0, 1],\n",
              "       [0.0, 1.0, 0.0, 1.0, 0.0, 0.0, 0.0, 0.0, 0.0, 1.0, 0.0, 1.0, 0.0,\n",
              "        0.0, 1, 0, 0, 1, 0, 0],\n",
              "       [1.0, 0.0, 0.0, 1.0, 0.0, 0.0, 0.0, 1.0, 0.0, 0.0, 1.0, 0.0, 0.0,\n",
              "        0.0, 0, 1, 0, 0, 0, 0],\n",
              "       [0.0, 1.0, 0.0, 1.0, 0.0, 0.0, 0.0, 0.0, 0.0, 1.0, 0.0, 0.0, 0.0,\n",
              "        1.0, 1, 0, 1, 1, 1, 0],\n",
              "       [0.0, 1.0, 0.0, 0.0, 0.0, 1.0, 1.0, 0.0, 0.0, 0.0, 0.0, 0.0, 1.0,\n",
              "        0.0, 1, 0, 1, 0, 0, 1],\n",
              "       [1.0, 0.0, 0.0, 0.0, 1.0, 0.0, 0.0, 0.0, 1.0, 0.0, 1.0, 0.0, 0.0,\n",
              "        0.0, 0, 1, 0, 1, 1, 1],\n",
              "       [0.0, 0.0, 1.0, 1.0, 0.0, 0.0, 0.0, 1.0, 0.0, 0.0, 1.0, 0.0, 0.0,\n",
              "        0.0, 0, 1, 0, 0, 1, 0],\n",
              "       [1.0, 0.0, 0.0, 0.0, 1.0, 0.0, 0.0, 0.0, 0.0, 1.0, 1.0, 0.0, 0.0,\n",
              "        0.0, 0, 0, 0, 1, 1, 1],\n",
              "       [0.0, 1.0, 0.0, 1.0, 0.0, 0.0, 0.0, 1.0, 0.0, 0.0, 0.0, 0.0, 1.0,\n",
              "        0.0, 0, 1, 1, 0, 1, 0],\n",
              "       [0.0, 1.0, 0.0, 0.0, 0.0, 1.0, 0.0, 0.0, 1.0, 0.0, 0.0, 0.0, 0.0,\n",
              "        1.0, 1, 1, 1, 1, 0, 1],\n",
              "       [0.0, 0.0, 1.0, 1.0, 0.0, 0.0, 0.0, 0.0, 0.0, 1.0, 1.0, 0.0, 0.0,\n",
              "        0.0, 0, 0, 0, 0, 0, 0],\n",
              "       [0.0, 1.0, 0.0, 1.0, 0.0, 0.0, 0.0, 1.0, 0.0, 0.0, 0.0, 1.0, 0.0,\n",
              "        0.0, 1, 1, 1, 1, 0, 0]], dtype=object)"
            ]
          },
          "metadata": {},
          "execution_count": 86
        }
      ]
    },
    {
      "cell_type": "code",
      "source": [
        "x_prev.shape"
      ],
      "metadata": {
        "colab": {
          "base_uri": "https://localhost:8080/"
        },
        "id": "LzvLvG_vTQ0z",
        "outputId": "6c2e9149-d048-4ee8-ab55-0ffed758202c"
      },
      "execution_count": null,
      "outputs": [
        {
          "output_type": "execute_result",
          "data": {
            "text/plain": [
              "(12, 20)"
            ]
          },
          "metadata": {},
          "execution_count": 87
        }
      ]
    },
    {
      "cell_type": "markdown",
      "source": [
        "Método de amostragem Holdout"
      ],
      "metadata": {
        "id": "ZLddT0hAUAy3"
      }
    },
    {
      "cell_type": "code",
      "source": [
        "from sklearn.model_selection import train_test_split"
      ],
      "metadata": {
        "id": "Ku8I5SGXUHO1"
      },
      "execution_count": null,
      "outputs": []
    },
    {
      "cell_type": "code",
      "source": [
        "x_prev"
      ],
      "metadata": {
        "colab": {
          "base_uri": "https://localhost:8080/"
        },
        "id": "Bn52C8lDUOXr",
        "outputId": "2fc65ba8-e2f5-4f2c-dda5-320edba88ee6"
      },
      "execution_count": null,
      "outputs": [
        {
          "output_type": "execute_result",
          "data": {
            "text/plain": [
              "array([[1.0, 0.0, 0.0, 0.0, 0.0, 1.0, 1.0, 0.0, 0.0, 0.0, 1.0, 0.0, 0.0,\n",
              "        0.0, 1, 0, 0, 1, 0, 1],\n",
              "       [0.0, 1.0, 0.0, 1.0, 0.0, 0.0, 0.0, 0.0, 0.0, 1.0, 0.0, 1.0, 0.0,\n",
              "        0.0, 1, 0, 0, 1, 0, 0],\n",
              "       [1.0, 0.0, 0.0, 1.0, 0.0, 0.0, 0.0, 1.0, 0.0, 0.0, 1.0, 0.0, 0.0,\n",
              "        0.0, 0, 1, 0, 0, 0, 0],\n",
              "       [0.0, 1.0, 0.0, 1.0, 0.0, 0.0, 0.0, 0.0, 0.0, 1.0, 0.0, 0.0, 0.0,\n",
              "        1.0, 1, 0, 1, 1, 1, 0],\n",
              "       [0.0, 1.0, 0.0, 0.0, 0.0, 1.0, 1.0, 0.0, 0.0, 0.0, 0.0, 0.0, 1.0,\n",
              "        0.0, 1, 0, 1, 0, 0, 1],\n",
              "       [1.0, 0.0, 0.0, 0.0, 1.0, 0.0, 0.0, 0.0, 1.0, 0.0, 1.0, 0.0, 0.0,\n",
              "        0.0, 0, 1, 0, 1, 1, 1],\n",
              "       [0.0, 0.0, 1.0, 1.0, 0.0, 0.0, 0.0, 1.0, 0.0, 0.0, 1.0, 0.0, 0.0,\n",
              "        0.0, 0, 1, 0, 0, 1, 0],\n",
              "       [1.0, 0.0, 0.0, 0.0, 1.0, 0.0, 0.0, 0.0, 0.0, 1.0, 1.0, 0.0, 0.0,\n",
              "        0.0, 0, 0, 0, 1, 1, 1],\n",
              "       [0.0, 1.0, 0.0, 1.0, 0.0, 0.0, 0.0, 1.0, 0.0, 0.0, 0.0, 0.0, 1.0,\n",
              "        0.0, 0, 1, 1, 0, 1, 0],\n",
              "       [0.0, 1.0, 0.0, 0.0, 0.0, 1.0, 0.0, 0.0, 1.0, 0.0, 0.0, 0.0, 0.0,\n",
              "        1.0, 1, 1, 1, 1, 0, 1],\n",
              "       [0.0, 0.0, 1.0, 1.0, 0.0, 0.0, 0.0, 0.0, 0.0, 1.0, 1.0, 0.0, 0.0,\n",
              "        0.0, 0, 0, 0, 0, 0, 0],\n",
              "       [0.0, 1.0, 0.0, 1.0, 0.0, 0.0, 0.0, 1.0, 0.0, 0.0, 0.0, 1.0, 0.0,\n",
              "        0.0, 1, 1, 1, 1, 0, 0]], dtype=object)"
            ]
          },
          "metadata": {},
          "execution_count": 89
        }
      ]
    },
    {
      "cell_type": "code",
      "source": [
        "y_classe"
      ],
      "metadata": {
        "colab": {
          "base_uri": "https://localhost:8080/"
        },
        "id": "FJg3dHlQUaUm",
        "outputId": "08012930-8792-44bf-f8a1-9f80cff4b45a"
      },
      "execution_count": null,
      "outputs": [
        {
          "output_type": "execute_result",
          "data": {
            "text/plain": [
              "array(['Sim', 'Nao', 'Sim', 'Sim', 'Nao', 'Sim', 'Nao', 'Sim', 'Nao',\n",
              "       'Nao', 'Nao', 'Sim'], dtype=object)"
            ]
          },
          "metadata": {},
          "execution_count": 90
        }
      ]
    },
    {
      "cell_type": "code",
      "source": [
        "y_classe.shape"
      ],
      "metadata": {
        "colab": {
          "base_uri": "https://localhost:8080/"
        },
        "id": "ga2VCcOEUgmF",
        "outputId": "926cdcbb-0e67-4b3c-beb0-9d634d2e0761"
      },
      "execution_count": null,
      "outputs": [
        {
          "output_type": "execute_result",
          "data": {
            "text/plain": [
              "(12,)"
            ]
          },
          "metadata": {},
          "execution_count": 91
        }
      ]
    },
    {
      "cell_type": "code",
      "source": [
        "x_treino, x_teste, y_treino, y_teste = train_test_split(x_prev, y_classe, test_size = 0.20, random_state = 0)"
      ],
      "metadata": {
        "id": "V086dk5-VQ7o"
      },
      "execution_count": null,
      "outputs": []
    },
    {
      "cell_type": "code",
      "source": [
        "x_treino.shape"
      ],
      "metadata": {
        "colab": {
          "base_uri": "https://localhost:8080/"
        },
        "id": "-UeKFk_LVo5w",
        "outputId": "32571572-eb64-4933-f1f5-8a603d5a79f2"
      },
      "execution_count": null,
      "outputs": [
        {
          "output_type": "execute_result",
          "data": {
            "text/plain": [
              "(9, 20)"
            ]
          },
          "metadata": {},
          "execution_count": 93
        }
      ]
    },
    {
      "cell_type": "code",
      "source": [
        "x_teste.shape"
      ],
      "metadata": {
        "colab": {
          "base_uri": "https://localhost:8080/"
        },
        "id": "ccuYnEdgVrtv",
        "outputId": "5ad29ffc-cf79-4c67-e7b4-5ebfde9300b9"
      },
      "execution_count": null,
      "outputs": [
        {
          "output_type": "execute_result",
          "data": {
            "text/plain": [
              "(3, 20)"
            ]
          },
          "metadata": {},
          "execution_count": 94
        }
      ]
    },
    {
      "cell_type": "code",
      "source": [
        "y_treino"
      ],
      "metadata": {
        "colab": {
          "base_uri": "https://localhost:8080/"
        },
        "id": "cZSd1xs_Vv-v",
        "outputId": "746c8a36-fd08-4afe-bf60-393acc8dc8e0"
      },
      "execution_count": null,
      "outputs": [
        {
          "output_type": "execute_result",
          "data": {
            "text/plain": [
              "array(['Nao', 'Sim', 'Nao', 'Nao', 'Sim', 'Nao', 'Sim', 'Sim', 'Sim'],\n",
              "      dtype=object)"
            ]
          },
          "metadata": {},
          "execution_count": 95
        }
      ]
    },
    {
      "cell_type": "code",
      "source": [
        "y_teste"
      ],
      "metadata": {
        "colab": {
          "base_uri": "https://localhost:8080/"
        },
        "id": "7Wj6RhrSWc-S",
        "outputId": "565eb708-f143-4e81-a32d-6c51ba9e742c"
      },
      "execution_count": null,
      "outputs": [
        {
          "output_type": "execute_result",
          "data": {
            "text/plain": [
              "array(['Nao', 'Sim', 'Nao'], dtype=object)"
            ]
          },
          "metadata": {},
          "execution_count": 96
        }
      ]
    },
    {
      "cell_type": "code",
      "source": [
        "from sklearn.tree import DecisionTreeClassifier"
      ],
      "metadata": {
        "id": "PUPmNE8Pp4fz"
      },
      "execution_count": null,
      "outputs": []
    },
    {
      "cell_type": "code",
      "source": [
        "modelo = DecisionTreeClassifier(criterion='entropy')\n",
        "modelo.fit(x_treino, y_treino)"
      ],
      "metadata": {
        "colab": {
          "base_uri": "https://localhost:8080/"
        },
        "id": "TEEqLP3Yp6Se",
        "outputId": "0ff39b5d-b39d-4064-f0e3-bef9a23661b5"
      },
      "execution_count": 117,
      "outputs": [
        {
          "output_type": "execute_result",
          "data": {
            "text/plain": [
              "DecisionTreeClassifier(criterion='entropy')"
            ]
          },
          "metadata": {},
          "execution_count": 117
        }
      ]
    },
    {
      "cell_type": "code",
      "source": [
        "previsoes = modelo.predict(x_teste)"
      ],
      "metadata": {
        "id": "W8HXnt54qAn1"
      },
      "execution_count": 118,
      "outputs": []
    },
    {
      "cell_type": "code",
      "source": [
        "previsoes"
      ],
      "metadata": {
        "colab": {
          "base_uri": "https://localhost:8080/"
        },
        "id": "smdg0R8WqCIA",
        "outputId": "15d6fa26-4179-4ccf-b1b2-a13b2eebaaa9"
      },
      "execution_count": 119,
      "outputs": [
        {
          "output_type": "execute_result",
          "data": {
            "text/plain": [
              "array(['Nao', 'Nao', 'Nao'], dtype=object)"
            ]
          },
          "metadata": {},
          "execution_count": 119
        }
      ]
    },
    {
      "cell_type": "code",
      "source": [
        "y_teste"
      ],
      "metadata": {
        "colab": {
          "base_uri": "https://localhost:8080/"
        },
        "id": "295q_1fMqGOi",
        "outputId": "c9d7d80b-09dc-4f50-82f6-9e413b30408f"
      },
      "execution_count": 120,
      "outputs": [
        {
          "output_type": "execute_result",
          "data": {
            "text/plain": [
              "array(['Nao', 'Sim', 'Nao'], dtype=object)"
            ]
          },
          "metadata": {},
          "execution_count": 120
        }
      ]
    },
    {
      "cell_type": "code",
      "source": [
        "from sklearn.metrics import accuracy_score, confusion_matrix, classification_report\n",
        "accuracy_score(y_teste, previsoes)"
      ],
      "metadata": {
        "colab": {
          "base_uri": "https://localhost:8080/"
        },
        "id": "rwmLGF-pqImW",
        "outputId": "8fa5bc1f-8a56-45d3-bf2e-004a16a7d776"
      },
      "execution_count": 121,
      "outputs": [
        {
          "output_type": "execute_result",
          "data": {
            "text/plain": [
              "0.6666666666666666"
            ]
          },
          "metadata": {},
          "execution_count": 121
        }
      ]
    },
    {
      "cell_type": "code",
      "source": [
        "from yellowbrick.classifier import ConfusionMatrix\n",
        "confusion_matrix(y_teste, previsoes)"
      ],
      "metadata": {
        "colab": {
          "base_uri": "https://localhost:8080/"
        },
        "id": "to6BpF-bqLA7",
        "outputId": "bed2c245-7c73-4abe-9048-0a6a8a2b7e1c"
      },
      "execution_count": 122,
      "outputs": [
        {
          "output_type": "execute_result",
          "data": {
            "text/plain": [
              "array([[2, 0],\n",
              "       [1, 0]])"
            ]
          },
          "metadata": {},
          "execution_count": 122
        }
      ]
    },
    {
      "cell_type": "code",
      "source": [
        "cm = ConfusionMatrix(modelo)\n",
        "cm.fit(x_treino, y_treino)\n",
        "cm.score(x_teste, y_teste)"
      ],
      "metadata": {
        "colab": {
          "base_uri": "https://localhost:8080/",
          "height": 376
        },
        "id": "QzkYusg3qMM_",
        "outputId": "26d5e3b3-3efe-423d-c28b-583dfe126712"
      },
      "execution_count": 123,
      "outputs": [
        {
          "output_type": "execute_result",
          "data": {
            "text/plain": [
              "0.6666666666666666"
            ]
          },
          "metadata": {},
          "execution_count": 123
        },
        {
          "output_type": "display_data",
          "data": {
            "text/plain": [
              "<Figure size 576x396 with 1 Axes>"
            ],
            "image/png": "[encoded data removed]"
          },
          "metadata": {}
        }
      ]
    },
    {
      "cell_type": "code",
      "source": [
        "print(classification_report(y_teste, previsoes))"
      ],
      "metadata": {
        "colab": {
          "base_uri": "https://localhost:8080/"
        },
        "id": "saOOSCxBqO_E",
        "outputId": "9ad05209-ed63-444f-c15b-3fa4f762b176"
      },
      "execution_count": 124,
      "outputs": [
        {
          "output_type": "stream",
          "name": "stdout",
          "text": [
            "              precision    recall  f1-score   support\n",
            "\n",
            "         Nao       0.67      1.00      0.80         2\n",
            "         Sim       0.00      0.00      0.00         1\n",
            "\n",
            "    accuracy                           0.67         3\n",
            "   macro avg       0.33      0.50      0.40         3\n",
            "weighted avg       0.44      0.67      0.53         3\n",
            "\n"
          ]
        },
        {
          "output_type": "stream",
          "name": "stderr",
          "text": [
            "/usr/local/lib/python3.7/dist-packages/sklearn/metrics/_classification.py:1318: UndefinedMetricWarning:\n",
            "\n",
            "Precision and F-score are ill-defined and being set to 0.0 in labels with no predicted samples. Use `zero_division` parameter to control this behavior.\n",
            "\n",
            "/usr/local/lib/python3.7/dist-packages/sklearn/metrics/_classification.py:1318: UndefinedMetricWarning:\n",
            "\n",
            "Precision and F-score are ill-defined and being set to 0.0 in labels with no predicted samples. Use `zero_division` parameter to control this behavior.\n",
            "\n",
            "/usr/local/lib/python3.7/dist-packages/sklearn/metrics/_classification.py:1318: UndefinedMetricWarning:\n",
            "\n",
            "Precision and F-score are ill-defined and being set to 0.0 in labels with no predicted samples. Use `zero_division` parameter to control this behavior.\n",
            "\n"
          ]
        }
      ]
    },
    {
      "cell_type": "code",
      "source": [
        "from sklearn import tree\n",
        "figura, eixos = plt.subplots(nrows=1, ncols=1, figsize=(10,10))\n",
        "tree.plot_tree(modelo, filled=True)"
      ],
      "metadata": {
        "colab": {
          "base_uri": "https://localhost:8080/",
          "height": 697
        },
        "id": "jrqZPdZNqRgY",
        "outputId": "89eba70d-4b6d-443c-810b-757f167c2bc0"
      },
      "execution_count": 129,
      "outputs": [
        {
          "output_type": "execute_result",
          "data": {
            "text/plain": [
              "[Text(0.6, 0.875, 'X[0] <= 0.5\\nentropy = 0.991\\nsamples = 9\\nvalue = [4, 5]'),\n",
              " Text(0.4, 0.625, 'X[13] <= 0.5\\nentropy = 0.722\\nsamples = 5\\nvalue = [4, 1]'),\n",
              " Text(0.2, 0.375, 'entropy = 0.0\\nsamples = 3\\nvalue = [3, 0]'),\n",
              " Text(0.6, 0.375, 'X[15] <= 0.5\\nentropy = 1.0\\nsamples = 2\\nvalue = [1, 1]'),\n",
              " Text(0.4, 0.125, 'entropy = 0.0\\nsamples = 1\\nvalue = [0, 1]'),\n",
              " Text(0.8, 0.125, 'entropy = 0.0\\nsamples = 1\\nvalue = [1, 0]'),\n",
              " Text(0.8, 0.625, 'entropy = 0.0\\nsamples = 4\\nvalue = [0, 4]')]"
            ]
          },
          "metadata": {},
          "execution_count": 129
        },
        {
          "output_type": "display_data",
          "data": {
            "text/plain": [
              "<Figure size 720x720 with 1 Axes>"
            ],
            "image/png": "[encoded data removed]"
          },
          "metadata": {}
        }
      ]
    }
  ]
}